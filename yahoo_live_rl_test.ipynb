{
 "cells": [
  {
   "cell_type": "markdown",
   "metadata": {},
   "source": [
    "# Yahoo_live_rl_test Model"
   ]
  },
  {
   "cell_type": "code",
   "execution_count": 2,
   "metadata": {},
   "outputs": [],
   "source": [
    "import lxml.html as lh\n",
    "import time\n",
    "import urllib.request\n",
    "import argparse\n",
    "\n",
    "\n",
    "import os\n",
    "import coloredlogs\n",
    "from docopt import docopt"
   ]
  },
  {
   "cell_type": "markdown",
   "metadata": {},
   "source": [
    "## 1. Load model and Define parameters "
   ]
  },
  {
   "cell_type": "code",
   "execution_count": null,
   "metadata": {},
   "outputs": [],
   "source": [
    "from trading_bot.ops import get_state\n",
    "from trading_bot.agent import Agent\n",
    "from trading_bot.methods import evaluate_model\n",
    "from trading_bot.utils import (\n",
    "    get_stock_data,\n",
    "    format_currency,\n",
    "    format_position,\n",
    "    show_eval_result,\n",
    "    switch_k_backend_device\n",
    ")"
   ]
  },
  {
   "cell_type": "markdown",
   "metadata": {},
   "source": [
    "## 2. Loading Timezone and Loading Webdriver "
   ]
  },
  {
   "cell_type": "code",
   "execution_count": null,
   "metadata": {},
   "outputs": [],
   "source": [
    "\n",
    "from selenium import webdriver\n",
    "from selenium.common.exceptions import StaleElementReferenceException\n",
    "import pytz\n",
    "tz = pytz.timezone('Asia/Kolkata')\n",
    "\n",
    "\n",
    "path1 = os.getcwd()\n",
    "path = path1 + '/chromedriver'\n",
    "\n",
    "ignored_exceptions=(StaleElementReferenceException,)\n",
    "options = webdriver.ChromeOptions()\n",
    "options.add_argument('--no-sandbox')\n",
    "options.add_argument('--disable-dev-shm-usage')\n",
    "options.add_argument('--headless')\n",
    "options.add_experimental_option('excludeSwitches', ['enable-logging'])\n",
    "#options.add_argument(f'user-agent={userAgent}')\n",
    "driver = webdriver.Chrome(executable_path=path , options=options)"
   ]
  },
  {
   "cell_type": "markdown",
   "metadata": {},
   "source": [
    "## 3. URL List extraction "
   ]
  },
  {
   "cell_type": "code",
   "execution_count": null,
   "metadata": {},
   "outputs": [],
   "source": [
    "\n",
    "\n",
    "#This function returns the table of the given url\n",
    "def Real(url,count):\n",
    "    if count == 0:\n",
    "        \n",
    "        driver.get(url)\n",
    "        #print(driver)\n",
    "\n",
    "    else:\n",
    "        driver.refresh()\n",
    "        time.sleep(15)\n",
    "\n",
    "    infile = driver.page_source\n",
    "    doc = lh.fromstring(infile)\n",
    "    live = doc.xpath('/html/body/div[1]/div/div/div[1]/div/div[2]/div/div/div[4]/div/div/div/div[3]/div/div/span[1]')\n",
    "    live = float(live[0].text.replace(',',''))\n",
    "    return live "
   ]
  },
  {
   "cell_type": "markdown",
   "metadata": {},
   "source": [
    "## 4.Evalution Model "
   ]
  },
  {
   "cell_type": "code",
   "execution_count": null,
   "metadata": {},
   "outputs": [],
   "source": [
    "def evaluate_model(agent, state, next_state, data, t, total_profit, history, reward, window_size, debug=False):\n",
    "  \n",
    "    print(t)\n",
    "        # select an action\n",
    "    action = agent.act(state, is_eval=True)\n",
    "\n",
    "        # BUY\n",
    "    if action == 1:\n",
    "        agent.inventory.append(data[t])\n",
    "\n",
    "        history.append((data[t], \"BUY\"))\n",
    "        if debug:\n",
    "            logging.debug(\"Buy at: {}\".format(format_currency(data[t])))\n",
    "\n",
    "        # SELL\n",
    "    elif action == 2 and len(agent.inventory) > 0:\n",
    "        bought_price = agent.inventory.pop(0)\n",
    "        delta = data[t] - bought_price\n",
    "        reward = delta #max(delta, 0)\n",
    "        total_profit += delta\n",
    "\n",
    "        history.append((data[t], \"SELL\"))\n",
    "        if debug:\n",
    "            logging.debug(\"Sell at: {} | Position: {}\".format(\n",
    "                    format_currency(data[t]), format_position(data[t] - bought_price)))\n",
    "        # HOLD\n",
    "    else:\n",
    "        history.append((data[t], \"HOLD\"))\n",
    "\n",
    "#        done = (t == data_length - 1)\n",
    "    agent.memory.append((state, action, reward, next_state))\n",
    "\n",
    "    return total_profit"
   ]
  },
  {
   "cell_type": "markdown",
   "metadata": {},
   "source": [
    "## 5. Visualization"
   ]
  },
  {
   "cell_type": "code",
   "execution_count": null,
   "metadata": {},
   "outputs": [],
   "source": [
    "#This Function will output a CSV file and this could be used \n",
    "#by making certain changes in visualize.ipynb file and visualize the data \n",
    "#once the trading is over. \n",
    "\n",
    "import pandas as pd\n",
    "def visualisation(price1,time1):\n",
    "    visual = pd.DataFrame([[price1[i],time1[i]] for i in range(0,len(price1))], columns=['Time', 'Price'])\n",
    "    visual.to_csv('visual.csv')\n",
    "    df = pd.read_csv('visual.csv')\n",
    "\n",
    "    df = df[['Time', 'Price']]\n",
    "    df = df.rename(columns={'Price': 'actual', 'Time': 'time'})\n",
    "\n",
    "    dates = df['time']\n",
    "    dates = pd.to_datetime(dates, infer_datetime_format=True)\n",
    "    df['time'] = dates\n",
    "\n",
    "    print(df.head())\n",
    "    \n",
    "    x = time1  \n",
    "    \n",
    "    y = price1\n",
    "\n",
    "  \n",
    "   \n",
    "\n",
    "    plt.xlim((min(time1)),(max(time1)))\n",
    "    plt.xlabel('Time') \n",
    "    plt.ylim((min(price1)),(max(price1)))\n",
    "    plt.ylabel('Price') \n",
    "\n",
    "\n",
    "    plt.title('Price vs Time Visualisation of stocks') \n",
    "\n",
    "    plt.plot(x, y) \n",
    "    plt.draw()\n",
    "    plt.show() \n",
    "\n",
    "\n"
   ]
  },
  {
   "cell_type": "markdown",
   "metadata": {},
   "source": [
    "## 6. Main Function "
   ]
  },
  {
   "cell_type": "code",
   "execution_count": null,
   "metadata": {},
   "outputs": [],
   "source": [
    "import datetime\n",
    "price1 = []\n",
    "time1=[]\n",
    "def main():\n",
    "    count = 0\n",
    "    total_profit = 0\n",
    "    t=0\n",
    "    history = []\n",
    "    reward = 0\n",
    "    ticker = \"RELIANCE.NS\"\n",
    "    price =[]\n",
    "    window_size =10\n",
    "    time_now = datetime.datetime.now(tz).time()\n",
    "    while(datetime.time(9, 14, tzinfo=tz) < time_now < datetime.time(15, 31, tzinfo=tz)):\n",
    "        url = 'https://finance.yahoo.com/quote/{}?p={}&.tsrc=fin-srch'.format(ticker,ticker)\n",
    "        print(count)\n",
    "        live = Real(url,count)\n",
    "        count+=1        \n",
    "        price.append(live)\n",
    "        price1.append(live)\n",
    "        time1.append(time_now)\n",
    "        if count < window_size:\n",
    "           continue\n",
    "        model_name='model_debug_50'  \n",
    "        print(live)\n",
    "        initial_offset = price[1] - price[0]\n",
    "        state = get_state(price, 0, window_size + 1)\n",
    "        next_state = get_state(price, t + 1, window_size + 1)\n",
    "        agent = Agent(state_size=window_size, pretrained=True, model_name=model_name)\n",
    "        agent.inventory = []\n",
    "        profit = evaluate_model(agent,state,next_state, price, t, total_profit, history, reward, window_size=window_size)\n",
    "        show_eval_result(model_name, profit, initial_offset)\n",
    "        t+=1\n",
    "     \n",
    "        state = next_state"
   ]
  },
  {
   "cell_type": "markdown",
   "metadata": {},
   "source": [
    "## Function call "
   ]
  },
  {
   "cell_type": "code",
   "execution_count": null,
   "metadata": {
    "scrolled": true
   },
   "outputs": [],
   "source": [
    "if __name__ == \"__main__\":\n",
    "   \n",
    "\n",
    "    coloredlogs.install(level=\"DEBUG\")\n",
    "    switch_k_backend_device()\n",
    "\n",
    "    try:\n",
    "        main()\n",
    "    except KeyboardInterrupt:\n",
    "        print(\"Aborted\")\n",
    "    \n",
    "        visualisation(price1,time1)\n"
   ]
  },
  {
   "cell_type": "code",
   "execution_count": null,
   "metadata": {},
   "outputs": [],
   "source": []
  },
  {
   "cell_type": "code",
   "execution_count": null,
   "metadata": {},
   "outputs": [],
   "source": []
  },
  {
   "cell_type": "code",
   "execution_count": null,
   "metadata": {},
   "outputs": [],
   "source": []
  }
 ],
 "metadata": {
  "kernelspec": {
   "display_name": "Python 3",
   "language": "python",
   "name": "python3"
  },
  "language_info": {
   "codemirror_mode": {
    "name": "ipython",
    "version": 3
   },
   "file_extension": ".py",
   "mimetype": "text/x-python",
   "name": "python",
   "nbconvert_exporter": "python",
   "pygments_lexer": "ipython3",
   "version": "3.7.4"
  }
 },
 "nbformat": 4,
 "nbformat_minor": 2
}
